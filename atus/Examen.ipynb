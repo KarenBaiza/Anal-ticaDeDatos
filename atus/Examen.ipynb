{
 "cells": [
  {
   "cell_type": "code",
   "execution_count": 20,
   "metadata": {},
   "outputs": [],
   "source": [
    "import numpy as np\n",
    "import pandas as pd \n",
    "from datetime import date, datetime\n",
    "import locale\n"
   ]
  },
  {
   "cell_type": "code",
   "execution_count": 42,
   "metadata": {},
   "outputs": [
    {
     "name": "stdout",
     "output_type": "stream",
     "text": [
      "   COBERTURA  ID_ENTIDAD  ID_MUNICIPIO  ANIO  MES  ID_HORA  ID_MINUTO  ID_DIA  \\\n",
      "0  Municipal           1             1  2020    1        0          0       1   \n",
      "1  Municipal           1             1  2020    1        0          0       1   \n",
      "2  Municipal           1             1  2020    1        0         10       1   \n",
      "3  Municipal           1             1  2020    1        2          0       1   \n",
      "4  Municipal           1             1  2020    1        2         10       1   \n",
      "\n",
      "   DIASEMANA                     URBANA  ... PEATMUERTO PEATHERIDO  \\\n",
      "0  Miercoles  Accidente en intersección  ...          0          0   \n",
      "1  Miercoles  Accidente en intersección  ...          0          0   \n",
      "2  Miercoles  Accidente en intersección  ...          0          0   \n",
      "3  Miercoles  Accidente en intersección  ...          0          0   \n",
      "4  Miercoles  Accidente en intersección  ...          0          0   \n",
      "\n",
      "   CICLMUERTO  CICLHERIDO  OTROMUERTO  OTROHERIDO  NEMUERTO  NEHERIDO  \\\n",
      "0           0           0           0           0         0         0   \n",
      "1           0           0           0           0         0         0   \n",
      "2           0           0           0           0         0         0   \n",
      "3           0           0           0           0         0         0   \n",
      "4           0           0           0           0         0         0   \n",
      "\n",
      "      CLASACC             ESTATUS  \n",
      "0  Sólo daños  Cifras Definitivas  \n",
      "1  Sólo daños  Cifras Definitivas  \n",
      "2  Sólo daños  Cifras Definitivas  \n",
      "3  Sólo daños  Cifras Definitivas  \n",
      "4  Sólo daños  Cifras Definitivas  \n",
      "\n",
      "[5 rows x 45 columns]\n"
     ]
    }
   ],
   "source": [
    "# 1. Cargue en un Dataframe los datos de los accidentes de los últimos 3 años\n",
    "\n",
    "df_2020 = pd.read_csv(\"../input/atus_anual_2020.csv\", index_col = False)\n",
    "df_2021 = pd.read_csv(\"../input/atus_anual_2021.csv\", index_col = False)\n",
    "df_2022 = pd.read_csv(\"../input/atus_anual_2022.csv\", index_col = False)\n",
    "\n",
    "# Concatena los DataFrames en uno solo\n",
    "df_atus = [df_2020, df_2021, df_2022]\n",
    "df_atus = pd.concat(df_atus)\n",
    "\n",
    "# Imprime el DataFrame unidos\n",
    "print(df_atus.head())\n"
   ]
  },
  {
   "cell_type": "code",
   "execution_count": 43,
   "metadata": {},
   "outputs": [
    {
     "name": "stdout",
     "output_type": "stream",
     "text": [
      "   COBERTURA  ID_ENTIDAD  ID_MUNICIPIO                     URBANA  \\\n",
      "0  Municipal           1             1  Accidente en intersección   \n",
      "1  Municipal           1             1  Accidente en intersección   \n",
      "2  Municipal           1             1  Accidente en intersección   \n",
      "3  Municipal           1             1  Accidente en intersección   \n",
      "4  Municipal           1             1  Accidente en intersección   \n",
      "\n",
      "                    SUBURBANA                         TIPACCID  AUTOMOVIL  \\\n",
      "0  Sin accidente en esta zona  Colisión con vehículo automotor          1   \n",
      "1  Sin accidente en esta zona         Colisión con objeto fijo          1   \n",
      "2  Sin accidente en esta zona         Colisión con motocicleta          1   \n",
      "3  Sin accidente en esta zona  Colisión con vehículo automotor          2   \n",
      "4  Sin accidente en esta zona  Colisión con vehículo automotor          2   \n",
      "\n",
      "   CAMPASAJ  MICROBUS  PASCAMION  ...  PEATHERIDO  CICLMUERTO  CICLHERIDO  \\\n",
      "0         1         0          0  ...           0           0           0   \n",
      "1         0         0          0  ...           0           0           0   \n",
      "2         0         0          0  ...           0           0           0   \n",
      "3         0         0          0  ...           0           0           0   \n",
      "4         0         0          0  ...           0           0           0   \n",
      "\n",
      "   OTROMUERTO  OTROHERIDO  NEMUERTO  NEHERIDO     CLASACC             ESTATUS  \\\n",
      "0           0           0         0         0  Sólo daños  Cifras Definitivas   \n",
      "1           0           0         0         0  Sólo daños  Cifras Definitivas   \n",
      "2           0           0         0         0  Sólo daños  Cifras Definitivas   \n",
      "3           0           0         0         0  Sólo daños  Cifras Definitivas   \n",
      "4           0           0         0         0  Sólo daños  Cifras Definitivas   \n",
      "\n",
      "                FECHA  \n",
      "0 2020-01-01 00:00:00  \n",
      "1 2020-01-01 00:00:00  \n",
      "2 2020-01-01 00:10:00  \n",
      "3 2020-01-01 02:00:00  \n",
      "4 2020-01-01 02:10:00  \n",
      "\n",
      "[5 rows x 40 columns]\n"
     ]
    }
   ],
   "source": [
    "# 2. Agregue una columna tipo date que englobe las columnas correspondientes a Año, Mes, Dia, Hora y Minuto.\n",
    "\n",
    "df_atus['FECHA'] = df_atus.apply(lambda row: f\"{row['ANIO']}-{row['MES']}-{row['ID_DIA']} {row['ID_HORA']}:{row['ID_MINUTO']}\", axis=1)\n",
    "\n",
    "df_atus['FECHA'] = pd.to_datetime(df_atus['FECHA'], format='%Y-%m-%d %H:%M')\n",
    "\n",
    "df_atus = df_atus.drop(['ANIO', 'MES', 'ID_DIA', 'ID_HORA', 'ID_MINUTO','DIASEMANA'], axis=1)\n",
    "\n",
    "\n",
    "print(df_atus.head())\n",
    "\n"
   ]
  },
  {
   "cell_type": "code",
   "execution_count": 46,
   "metadata": {},
   "outputs": [
    {
     "name": "stdout",
     "output_type": "stream",
     "text": [
      "<pandas.core.groupby.generic.DataFrameGroupBy object at 0x7fbf3fc52d70>\n"
     ]
    }
   ],
   "source": [
    "# 3. Agregue una columna para Área cuyos valores serán Urbana o Suburbana dependiendo del área donde ocurrió el accidente.\n",
    "# 4. Agregue una columna Zona cuyos valores serán la zona donde ocurrió el accidente.\n",
    "\n",
    "\n",
    "df_atus['ZONA'] = df_atus.apply(lambda row: row['URBANA'] if row['URBANA'] != 'Sin accidente en esta zona' else (row['SUBURBANA'] \n",
    "if row['SUBURBANA'] != 'Sin accidente en esta zona' else None), axis=1)\n",
    "\n",
    "df_atus['URBANA'] = (df_atus['URBANA']=='Sin accidente en esta zona').astype(int)\n",
    "print(df_atus.groupby(\"URBANA\"))\n",
    "\n",
    "df_atus['URBANA'] = df_atus['URBANA'].apply(lambda x: 'Suburbana' if x == 1 else 'Urbana')\n",
    "\n",
    "# 5. Elimine las columnas URBANA y SUBURBANA\n",
    "\n",
    "df_atus = df_atus.drop(['SUBURBANA'], axis=1)\n",
    "df_atus = df_atus.rename(columns = {'URBANA' : 'AREA'})\n"
   ]
  },
  {
   "cell_type": "markdown",
   "metadata": {},
   "source": []
  },
  {
   "cell_type": "code",
   "execution_count": 47,
   "metadata": {},
   "outputs": [
    {
     "name": "stdout",
     "output_type": "stream",
     "text": [
      "     COBERTURA  ID_ENTIDAD  ID_MUNICIPIO       AREA  \\\n",
      "0    Municipal           1             1     Urbana   \n",
      "1    Municipal           1             1     Urbana   \n",
      "2    Municipal           1             1     Urbana   \n",
      "3    Municipal           1             1     Urbana   \n",
      "4    Municipal           1             1     Urbana   \n",
      "..         ...         ...           ...        ...   \n",
      "115  Municipal           1             1     Urbana   \n",
      "116  Municipal           1             1     Urbana   \n",
      "117  Municipal           1             1     Urbana   \n",
      "118  Municipal           1             1     Urbana   \n",
      "119  Municipal           1             1  Suburbana   \n",
      "\n",
      "                            TIPACCID  AUTOMOVIL  CAMPASAJ  MICROBUS  \\\n",
      "0    Colisión con vehículo automotor          1         1         0   \n",
      "1           Colisión con objeto fijo          1         0         0   \n",
      "2           Colisión con motocicleta          1         0         0   \n",
      "3    Colisión con vehículo automotor          2         0         0   \n",
      "4    Colisión con vehículo automotor          2         0         0   \n",
      "..                               ...        ...       ...       ...   \n",
      "115         Colisión con objeto fijo          0         0         0   \n",
      "116         Colisión con objeto fijo          1         0         0   \n",
      "117  Colisión con vehículo automotor          0         0         0   \n",
      "118  Colisión con vehículo automotor          0         1         0   \n",
      "119                Salida del camino          1         0         0   \n",
      "\n",
      "     PASCAMION  OMNIBUS  ...  CICLMUERTO  CICLHERIDO  OTROMUERTO  OTROHERIDO  \\\n",
      "0            0        0  ...           0           0           0           0   \n",
      "1            0        0  ...           0           0           0           0   \n",
      "2            0        0  ...           0           0           0           0   \n",
      "3            0        0  ...           0           0           0           0   \n",
      "4            0        0  ...           0           0           0           0   \n",
      "..         ...      ...  ...         ...         ...         ...         ...   \n",
      "115          0        0  ...           0           0           0           0   \n",
      "116          0        0  ...           0           0           0           0   \n",
      "117          0        0  ...           0           0           0           0   \n",
      "118          0        0  ...           0           0           0           0   \n",
      "119          0        0  ...           0           0           0           0   \n",
      "\n",
      "     NEMUERTO  NEHERIDO     CLASACC             ESTATUS               FECHA  \\\n",
      "0           0         0  Sólo daños  Cifras Definitivas 2020-01-01 00:00:00   \n",
      "1           0         0  Sólo daños  Cifras Definitivas 2020-01-01 00:00:00   \n",
      "2           0         0  Sólo daños  Cifras Definitivas 2020-01-01 00:10:00   \n",
      "3           0         0  Sólo daños  Cifras Definitivas 2020-01-01 02:00:00   \n",
      "4           0         0  Sólo daños  Cifras Definitivas 2020-01-01 02:10:00   \n",
      "..        ...       ...         ...                 ...                 ...   \n",
      "115         0         0  Sólo daños  Cifras Definitivas 2020-01-13 04:05:00   \n",
      "116         0         0    No fatal  Cifras Definitivas 2020-01-13 06:51:00   \n",
      "117         0         0    No fatal  Cifras Definitivas 2020-01-13 08:25:00   \n",
      "118         0         0  Sólo daños  Cifras Definitivas 2020-01-13 09:35:00   \n",
      "119         0         0    No fatal  Cifras Definitivas 2020-01-13 12:13:00   \n",
      "\n",
      "                               ZONA  \n",
      "0         Accidente en intersección  \n",
      "1         Accidente en intersección  \n",
      "2         Accidente en intersección  \n",
      "3         Accidente en intersección  \n",
      "4         Accidente en intersección  \n",
      "..                              ...  \n",
      "115       Accidente en intersección  \n",
      "116       Accidente en intersección  \n",
      "117       Accidente en intersección  \n",
      "118       Accidente en intersección  \n",
      "119  Accidente en carretera estatal  \n",
      "\n",
      "[120 rows x 40 columns]\n"
     ]
    }
   ],
   "source": [
    "print(df_atus.head(120))"
   ]
  },
  {
   "cell_type": "code",
   "execution_count": 48,
   "metadata": {},
   "outputs": [
    {
     "name": "stdout",
     "output_type": "stream",
     "text": [
      "                        Tipo de Accidente   Count  Porcentaje sobre el Total\n",
      "0         Colisión con vehículo automotor  229940                  58.552112\n",
      "1                Colisión con motocicleta   53629                  13.656133\n",
      "2                Colisión con objeto fijo   47033                  11.976522\n",
      "3                        Certificado cero   15479                   3.941585\n",
      "4   Colisión con peatón (atropellamiento)   11066                   2.817855\n",
      "5                               Volcadura   10911                   2.778386\n",
      "6                       Salida del camino   10857                   2.764635\n",
      "7                                    Otro    6325                   1.610603\n",
      "8                   Colisión con ciclista    4048                   1.030786\n",
      "9                       Caída de pasajero    1784                   0.454279\n",
      "10                    Colisión con animal    1022                   0.260243\n",
      "11                               Incendio     348                   0.088615\n",
      "12               Colisión con ferrocarril     268                   0.068244\n"
     ]
    }
   ],
   "source": [
    "# 7. Resuma los accidentes del último año por tipo y que porcentaje representan\n",
    "\n",
    "TipoAccidente = df_2022['TIPACCID'].value_counts().reset_index()\n",
    "TipoAccidente.columns = ['Tipo de Accidente', 'Count']\n",
    "\n",
    "TotalAccidentes = TipoAccidente['Count'].sum()\n",
    "TipoAccidente['Porcentaje sobre el Total'] = (TipoAccidente['Count'] / TotalAccidentes) * 100\n",
    "print(TipoAccidente)\n",
    "\n"
   ]
  },
  {
   "cell_type": "code",
   "execution_count": 31,
   "metadata": {},
   "outputs": [
    {
     "name": "stdout",
     "output_type": "stream",
     "text": [
      "             total  categorias  porcentaje sobre total\n",
      "CONDMUERTO    7050  CONDMUERTO                2.718754\n",
      "PASAMUERTO    3088  PASAMUERTO                1.190853\n",
      "PEATMUERTO    2689  PEATMUERTO                1.036983\n",
      "CICLMUERTO     433  CICLMUERTO                0.166982\n",
      "OTROMUERTO     148  OTROMUERTO                0.057075\n",
      "NEMUERTO         0    NEMUERTO                0.000000\n",
      "CONDHERIDO  127628  CONDHERIDO               49.218310\n",
      "PASAHERIDO   78588  PASAHERIDO               30.306583\n",
      "PEATHERIDO   31949  PEATHERIDO               12.320774\n",
      "CICLHERIDO    6787  CICLHERIDO                2.617331\n",
      "OTROHERIDO     950  OTROHERIDO                0.366357\n",
      "NEHERIDO         0    NEHERIDO                0.000000\n"
     ]
    }
   ],
   "source": [
    "# 8. Obtenga la cantidad de muertos y lesionados de los últimos 3 años\n",
    "\n",
    "Muertos = pd.DataFrame()\n",
    "\n",
    "Todos_muertos = df_atus[['CONDMUERTO','PASAMUERTO','PEATMUERTO', 'CICLMUERTO', 'OTROMUERTO', 'NEMUERTO', 'CONDHERIDO','PASAHERIDO', 'PEATHERIDO', 'CICLHERIDO', 'OTROHERIDO', 'NEHERIDO']].sum()\n",
    "\n",
    "Muertos['total'] = Todos_muertos\n",
    "\n",
    "Muertos['categorias'] = df_atus[['CONDMUERTO','PASAMUERTO','PEATMUERTO', 'CICLMUERTO', 'OTROMUERTO', 'NEMUERTO', 'CONDHERIDO','PASAHERIDO', 'PEATHERIDO', 'CICLHERIDO', 'OTROHERIDO', 'NEHERIDO']].columns\n",
    "\n",
    "Muertos['porcentaje sobre total'] = (Muertos['total'] / Muertos['total'].sum()) * 100\n",
    "\n",
    "\n",
    "print(Muertos)\n",
    "\n"
   ]
  },
  {
   "cell_type": "code",
   "execution_count": 49,
   "metadata": {},
   "outputs": [
    {
     "name": "stdout",
     "output_type": "stream",
     "text": [
      "    AÑO  Total_Accidentes  Porcentaje\n",
      "0  2022            392710   36.802612\n",
      "1  2021            356315   33.391874\n",
      "2  2020            318046   29.805514\n"
     ]
    }
   ],
   "source": [
    "# 9. ¿Cómo se compara el número de accidentes de cada año contra el anterior? ¿En qué porcentaje varió?\n",
    "\n",
    "df_atus['FECHA'] = pd.to_datetime(df_atus['FECHA'])\n",
    "\n",
    "df_atus['AÑO'] = df_atus['FECHA'].dt.year\n",
    "\n",
    "total_accidentes_por_año = df_atus['AÑO'].value_counts().reset_index()\n",
    "total_accidentes_por_año.columns = ['AÑO', 'Total_Accidentes']\n",
    "\n",
    "total_accidentes_por_año['Porcentaje'] = (total_accidentes_por_año['Total_Accidentes'] / total_accidentes_por_año['Total_Accidentes'].sum()) * 100\n",
    "\n",
    "df_atus = df_atus.drop('AÑO', axis = 1)\n",
    "print(total_accidentes_por_año)\n"
   ]
  }
 ],
 "metadata": {
  "kernelspec": {
   "display_name": "Python 3",
   "language": "python",
   "name": "python3"
  },
  "language_info": {
   "codemirror_mode": {
    "name": "ipython",
    "version": 3
   },
   "file_extension": ".py",
   "mimetype": "text/x-python",
   "name": "python",
   "nbconvert_exporter": "python",
   "pygments_lexer": "ipython3",
   "version": "3.10.13"
  }
 },
 "nbformat": 4,
 "nbformat_minor": 2
}
