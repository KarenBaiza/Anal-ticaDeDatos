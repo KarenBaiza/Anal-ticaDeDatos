{
 "cells": [
  {
   "cell_type": "code",
   "execution_count": 2,
   "metadata": {},
   "outputs": [],
   "source": [
    "import pandas as pd"
   ]
  },
  {
   "cell_type": "code",
   "execution_count": null,
   "metadata": {},
   "outputs": [],
   "source": [
    "\n",
    "df = pd.read_csv(\"../input/atus_anual_2020.csv\")      #read lee los datos\n",
    "df.head()                                             #head:La función head() es útil para obtener una vista previa rápida de los datos en un DataFrame\n"
   ]
  },
  {
   "cell_type": "code",
   "execution_count": 12,
   "metadata": {},
   "outputs": [
    {
     "name": "stdout",
     "output_type": "stream",
     "text": [
      "(1067071, 45)\n",
      "          COBERTURA  ID_ENTIDAD  ID_MUNICIPIO  ANIO  MES  ID_HORA  ID_MINUTO  \\\n",
      "Municipal         1           1          2020     1    0        0          1   \n",
      "Municipal         1           1          2020     1    0        0          1   \n",
      "Municipal         1           1          2020     1    0       10          1   \n",
      "Municipal         1           1          2020     1    2        0          1   \n",
      "Municipal         1           1          2020     1    2       10          1   \n",
      "\n",
      "              ID_DIA                  DIASEMANA                      URBANA  \\\n",
      "Municipal  Miercoles  Accidente en intersección  Sin accidente en esta zona   \n",
      "Municipal  Miercoles  Accidente en intersección  Sin accidente en esta zona   \n",
      "Municipal  Miercoles  Accidente en intersección  Sin accidente en esta zona   \n",
      "Municipal  Miercoles  Accidente en intersección  Sin accidente en esta zona   \n",
      "Municipal  Miercoles  Accidente en intersección  Sin accidente en esta zona   \n",
      "\n",
      "           ... PEATMUERTO PEATHERIDO  CICLMUERTO  CICLHERIDO  OTROMUERTO  \\\n",
      "Municipal  ...          0          0           0           0           0   \n",
      "Municipal  ...          0          0           0           0           0   \n",
      "Municipal  ...          0          0           0           0           0   \n",
      "Municipal  ...          0          0           0           0           0   \n",
      "Municipal  ...          0          0           0           0           0   \n",
      "\n",
      "           OTROHERIDO  NEMUERTO    NEHERIDO             CLASACC  ESTATUS  \n",
      "Municipal           0         0  Sólo daños  Cifras Definitivas      NaN  \n",
      "Municipal           0         0  Sólo daños  Cifras Definitivas      NaN  \n",
      "Municipal           0         0  Sólo daños  Cifras Definitivas      NaN  \n",
      "Municipal           0         0  Sólo daños  Cifras Definitivas      NaN  \n",
      "Municipal           0         0  Sólo daños  Cifras Definitivas      NaN  \n",
      "\n",
      "[5 rows x 45 columns]\n"
     ]
    },
    {
     "ename": "",
     "evalue": "",
     "output_type": "error",
     "traceback": [
      "\u001b[1;31mEl kernel se bloqueó al ejecutar código en la celda actual o en una celda anterior. \n",
      "\u001b[1;31mRevise el código de las celdas para identificar una posible causa del error. \n",
      "\u001b[1;31mHaga clic <a href='https://aka.ms/vscodeJupyterKernelCrash'>aquí</a> para obtener más información. \n",
      "\u001b[1;31mVea Jupyter <a href='command:jupyter.viewOutput'>log</a> para obtener más detalles."
     ]
    }
   ],
   "source": [
    "# 1. Cargue en un Dataframe los datos de los accidentes de los últimos 3 años\n",
    "\n",
    "\n",
    "# Cargar los datos de cada año en DataFrames individuales\n",
    "df1 = pd.read_csv(\"../input/atus_anual_2020.csv\")\n",
    "df2 = pd.read_csv(\"../input/atus_anual_2021.csv\")\n",
    "df3 = pd.read_csv(\"../input/atus_anual_2022.csv\")\n",
    "\n",
    "# Concatena los DataFrames en uno solo\n",
    "df_atus = pd.concat([df1, df2, df3])\n",
    "\n",
    "\n",
    "# Imprime el DataFrame unidos\n",
    "#print(df_atus)\n",
    "\n",
    "print(df_atus.shape)\n",
    "print(df_atus.head())\n"
   ]
  },
  {
   "cell_type": "code",
   "execution_count": 19,
   "metadata": {},
   "outputs": [
    {
     "ename": "ValueError",
     "evalue": "time data \"10Miercoles01\" doesn't match format \"%Y%m%d%H%M\", at position 0. You might want to try:\n    - passing `format` if your strings have a consistent format;\n    - passing `format='ISO8601'` if your strings are all ISO8601 but not necessarily in exactly the same format;\n    - passing `format='mixed'`, and the format will be inferred for each element individually. You might want to use `dayfirst` alongside this.",
     "output_type": "error",
     "traceback": [
      "\u001b[0;31m---------------------------------------------------------------------------\u001b[0m",
      "\u001b[0;31mValueError\u001b[0m                                Traceback (most recent call last)",
      "Cell \u001b[0;32mIn[19], line 11\u001b[0m\n\u001b[1;32m      8\u001b[0m df_atus[\u001b[38;5;124m'\u001b[39m\u001b[38;5;124mID_MINUTO\u001b[39m\u001b[38;5;124m'\u001b[39m] \u001b[38;5;241m=\u001b[39m df_atus[\u001b[38;5;124m'\u001b[39m\u001b[38;5;124mID_MINUTO\u001b[39m\u001b[38;5;124m'\u001b[39m]\u001b[38;5;241m.\u001b[39mastype(\u001b[38;5;28mstr\u001b[39m)\n\u001b[1;32m     10\u001b[0m \u001b[38;5;66;03m# Crear una nueva columna 'Fecha' combinando las columnas 'ANIO', 'MES', 'ID_DIA', 'ID_HORA' y 'ID_MINUTO'\u001b[39;00m\n\u001b[0;32m---> 11\u001b[0m df_atus[\u001b[38;5;124m'\u001b[39m\u001b[38;5;124mFecha\u001b[39m\u001b[38;5;124m'\u001b[39m] \u001b[38;5;241m=\u001b[39m \u001b[43mpd\u001b[49m\u001b[38;5;241;43m.\u001b[39;49m\u001b[43mto_datetime\u001b[49m\u001b[43m(\u001b[49m\u001b[43mdf_atus\u001b[49m\u001b[43m[\u001b[49m\u001b[38;5;124;43m'\u001b[39;49m\u001b[38;5;124;43mANIO\u001b[39;49m\u001b[38;5;124;43m'\u001b[39;49m\u001b[43m]\u001b[49m\u001b[43m \u001b[49m\u001b[38;5;241;43m+\u001b[39;49m\u001b[43m \u001b[49m\u001b[43mdf_atus\u001b[49m\u001b[43m[\u001b[49m\u001b[38;5;124;43m'\u001b[39;49m\u001b[38;5;124;43mMES\u001b[39;49m\u001b[38;5;124;43m'\u001b[39;49m\u001b[43m]\u001b[49m\u001b[43m \u001b[49m\u001b[38;5;241;43m+\u001b[39;49m\u001b[43m \u001b[49m\u001b[43mdf_atus\u001b[49m\u001b[43m[\u001b[49m\u001b[38;5;124;43m'\u001b[39;49m\u001b[38;5;124;43mID_DIA\u001b[39;49m\u001b[38;5;124;43m'\u001b[39;49m\u001b[43m]\u001b[49m\u001b[43m \u001b[49m\u001b[38;5;241;43m+\u001b[39;49m\u001b[43m \u001b[49m\u001b[43mdf_atus\u001b[49m\u001b[43m[\u001b[49m\u001b[38;5;124;43m'\u001b[39;49m\u001b[38;5;124;43mID_HORA\u001b[39;49m\u001b[38;5;124;43m'\u001b[39;49m\u001b[43m]\u001b[49m\u001b[43m \u001b[49m\u001b[38;5;241;43m+\u001b[39;49m\u001b[43m \u001b[49m\u001b[43mdf_atus\u001b[49m\u001b[43m[\u001b[49m\u001b[38;5;124;43m'\u001b[39;49m\u001b[38;5;124;43mID_MINUTO\u001b[39;49m\u001b[38;5;124;43m'\u001b[39;49m\u001b[43m]\u001b[49m\u001b[43m,\u001b[49m\u001b[43m \u001b[49m\u001b[38;5;28;43mformat\u001b[39;49m\u001b[38;5;241;43m=\u001b[39;49m\u001b[38;5;124;43m'\u001b[39;49m\u001b[38;5;124;43m%\u001b[39;49m\u001b[38;5;124;43mY\u001b[39;49m\u001b[38;5;124;43m%\u001b[39;49m\u001b[38;5;124;43mm\u001b[39;49m\u001b[38;5;132;43;01m%d\u001b[39;49;00m\u001b[38;5;124;43m%\u001b[39;49m\u001b[38;5;124;43mH\u001b[39;49m\u001b[38;5;124;43m%\u001b[39;49m\u001b[38;5;124;43mM\u001b[39;49m\u001b[38;5;124;43m'\u001b[39;49m\u001b[43m)\u001b[49m\n\u001b[1;32m     13\u001b[0m \u001b[38;5;66;03m# Imprimir el DataFrame con la nueva columna 'Fecha'\u001b[39;00m\n\u001b[1;32m     14\u001b[0m \u001b[38;5;28mprint\u001b[39m(df_atus)\n",
      "File \u001b[0;32m~/.local/lib/python3.10/site-packages/pandas/core/tools/datetimes.py:1067\u001b[0m, in \u001b[0;36mto_datetime\u001b[0;34m(arg, errors, dayfirst, yearfirst, utc, format, exact, unit, infer_datetime_format, origin, cache)\u001b[0m\n\u001b[1;32m   1065\u001b[0m         result \u001b[38;5;241m=\u001b[39m arg\u001b[38;5;241m.\u001b[39mmap(cache_array)\n\u001b[1;32m   1066\u001b[0m     \u001b[38;5;28;01melse\u001b[39;00m:\n\u001b[0;32m-> 1067\u001b[0m         values \u001b[38;5;241m=\u001b[39m \u001b[43mconvert_listlike\u001b[49m\u001b[43m(\u001b[49m\u001b[43marg\u001b[49m\u001b[38;5;241;43m.\u001b[39;49m\u001b[43m_values\u001b[49m\u001b[43m,\u001b[49m\u001b[43m \u001b[49m\u001b[38;5;28;43mformat\u001b[39;49m\u001b[43m)\u001b[49m\n\u001b[1;32m   1068\u001b[0m         result \u001b[38;5;241m=\u001b[39m arg\u001b[38;5;241m.\u001b[39m_constructor(values, index\u001b[38;5;241m=\u001b[39marg\u001b[38;5;241m.\u001b[39mindex, name\u001b[38;5;241m=\u001b[39marg\u001b[38;5;241m.\u001b[39mname)\n\u001b[1;32m   1069\u001b[0m \u001b[38;5;28;01melif\u001b[39;00m \u001b[38;5;28misinstance\u001b[39m(arg, (ABCDataFrame, abc\u001b[38;5;241m.\u001b[39mMutableMapping)):\n",
      "File \u001b[0;32m~/.local/lib/python3.10/site-packages/pandas/core/tools/datetimes.py:433\u001b[0m, in \u001b[0;36m_convert_listlike_datetimes\u001b[0;34m(arg, format, name, utc, unit, errors, dayfirst, yearfirst, exact)\u001b[0m\n\u001b[1;32m    431\u001b[0m \u001b[38;5;66;03m# `format` could be inferred, or user didn't ask for mixed-format parsing.\u001b[39;00m\n\u001b[1;32m    432\u001b[0m \u001b[38;5;28;01mif\u001b[39;00m \u001b[38;5;28mformat\u001b[39m \u001b[38;5;129;01mis\u001b[39;00m \u001b[38;5;129;01mnot\u001b[39;00m \u001b[38;5;28;01mNone\u001b[39;00m \u001b[38;5;129;01mand\u001b[39;00m \u001b[38;5;28mformat\u001b[39m \u001b[38;5;241m!=\u001b[39m \u001b[38;5;124m\"\u001b[39m\u001b[38;5;124mmixed\u001b[39m\u001b[38;5;124m\"\u001b[39m:\n\u001b[0;32m--> 433\u001b[0m     \u001b[38;5;28;01mreturn\u001b[39;00m \u001b[43m_array_strptime_with_fallback\u001b[49m\u001b[43m(\u001b[49m\u001b[43marg\u001b[49m\u001b[43m,\u001b[49m\u001b[43m \u001b[49m\u001b[43mname\u001b[49m\u001b[43m,\u001b[49m\u001b[43m \u001b[49m\u001b[43mutc\u001b[49m\u001b[43m,\u001b[49m\u001b[43m \u001b[49m\u001b[38;5;28;43mformat\u001b[39;49m\u001b[43m,\u001b[49m\u001b[43m \u001b[49m\u001b[43mexact\u001b[49m\u001b[43m,\u001b[49m\u001b[43m \u001b[49m\u001b[43merrors\u001b[49m\u001b[43m)\u001b[49m\n\u001b[1;32m    435\u001b[0m result, tz_parsed \u001b[38;5;241m=\u001b[39m objects_to_datetime64(\n\u001b[1;32m    436\u001b[0m     arg,\n\u001b[1;32m    437\u001b[0m     dayfirst\u001b[38;5;241m=\u001b[39mdayfirst,\n\u001b[0;32m   (...)\u001b[0m\n\u001b[1;32m    441\u001b[0m     allow_object\u001b[38;5;241m=\u001b[39m\u001b[38;5;28;01mTrue\u001b[39;00m,\n\u001b[1;32m    442\u001b[0m )\n\u001b[1;32m    444\u001b[0m \u001b[38;5;28;01mif\u001b[39;00m tz_parsed \u001b[38;5;129;01mis\u001b[39;00m \u001b[38;5;129;01mnot\u001b[39;00m \u001b[38;5;28;01mNone\u001b[39;00m:\n\u001b[1;32m    445\u001b[0m     \u001b[38;5;66;03m# We can take a shortcut since the datetime64 numpy array\u001b[39;00m\n\u001b[1;32m    446\u001b[0m     \u001b[38;5;66;03m# is in UTC\u001b[39;00m\n",
      "File \u001b[0;32m~/.local/lib/python3.10/site-packages/pandas/core/tools/datetimes.py:467\u001b[0m, in \u001b[0;36m_array_strptime_with_fallback\u001b[0;34m(arg, name, utc, fmt, exact, errors)\u001b[0m\n\u001b[1;32m    456\u001b[0m \u001b[38;5;28;01mdef\u001b[39;00m \u001b[38;5;21m_array_strptime_with_fallback\u001b[39m(\n\u001b[1;32m    457\u001b[0m     arg,\n\u001b[1;32m    458\u001b[0m     name,\n\u001b[0;32m   (...)\u001b[0m\n\u001b[1;32m    462\u001b[0m     errors: \u001b[38;5;28mstr\u001b[39m,\n\u001b[1;32m    463\u001b[0m ) \u001b[38;5;241m-\u001b[39m\u001b[38;5;241m>\u001b[39m Index:\n\u001b[1;32m    464\u001b[0m \u001b[38;5;250m    \u001b[39m\u001b[38;5;124;03m\"\"\"\u001b[39;00m\n\u001b[1;32m    465\u001b[0m \u001b[38;5;124;03m    Call array_strptime, with fallback behavior depending on 'errors'.\u001b[39;00m\n\u001b[1;32m    466\u001b[0m \u001b[38;5;124;03m    \"\"\"\u001b[39;00m\n\u001b[0;32m--> 467\u001b[0m     result, tz_out \u001b[38;5;241m=\u001b[39m \u001b[43marray_strptime\u001b[49m\u001b[43m(\u001b[49m\u001b[43marg\u001b[49m\u001b[43m,\u001b[49m\u001b[43m \u001b[49m\u001b[43mfmt\u001b[49m\u001b[43m,\u001b[49m\u001b[43m \u001b[49m\u001b[43mexact\u001b[49m\u001b[38;5;241;43m=\u001b[39;49m\u001b[43mexact\u001b[49m\u001b[43m,\u001b[49m\u001b[43m \u001b[49m\u001b[43merrors\u001b[49m\u001b[38;5;241;43m=\u001b[39;49m\u001b[43merrors\u001b[49m\u001b[43m,\u001b[49m\u001b[43m \u001b[49m\u001b[43mutc\u001b[49m\u001b[38;5;241;43m=\u001b[39;49m\u001b[43mutc\u001b[49m\u001b[43m)\u001b[49m\n\u001b[1;32m    468\u001b[0m     \u001b[38;5;28;01mif\u001b[39;00m tz_out \u001b[38;5;129;01mis\u001b[39;00m \u001b[38;5;129;01mnot\u001b[39;00m \u001b[38;5;28;01mNone\u001b[39;00m:\n\u001b[1;32m    469\u001b[0m         unit \u001b[38;5;241m=\u001b[39m np\u001b[38;5;241m.\u001b[39mdatetime_data(result\u001b[38;5;241m.\u001b[39mdtype)[\u001b[38;5;241m0\u001b[39m]\n",
      "File \u001b[0;32mstrptime.pyx:501\u001b[0m, in \u001b[0;36mpandas._libs.tslibs.strptime.array_strptime\u001b[0;34m()\u001b[0m\n",
      "File \u001b[0;32mstrptime.pyx:451\u001b[0m, in \u001b[0;36mpandas._libs.tslibs.strptime.array_strptime\u001b[0;34m()\u001b[0m\n",
      "File \u001b[0;32mstrptime.pyx:583\u001b[0m, in \u001b[0;36mpandas._libs.tslibs.strptime._parse_with_format\u001b[0;34m()\u001b[0m\n",
      "\u001b[0;31mValueError\u001b[0m: time data \"10Miercoles01\" doesn't match format \"%Y%m%d%H%M\", at position 0. You might want to try:\n    - passing `format` if your strings have a consistent format;\n    - passing `format='ISO8601'` if your strings are all ISO8601 but not necessarily in exactly the same format;\n    - passing `format='mixed'`, and the format will be inferred for each element individually. You might want to use `dayfirst` alongside this."
     ]
    }
   ],
   "source": [
    "# 2. Agregue una columna tipo date que englobe las columnas correspondientes a Año, Mes, Dia, Hora y Minuto.\n",
    "\n",
    "# Convertir las columnas 'ANIO', 'MES', 'ID_DIA', 'ID_HORA' y 'ID_MINUTO' a tipo texto\n",
    "df_atus['ANIO'] = df_atus['ANIO'].astype(str)\n",
    "df_atus['MES'] = df_atus['MES'].astype(str)\n",
    "df_atus['ID_DIA'] = df_atus['ID_DIA'].astype(str)\n",
    "df_atus['ID_HORA'] = df_atus['ID_HORA'].astype(str)\n",
    "df_atus['ID_MINUTO'] = df_atus['ID_MINUTO'].astype(str)\n",
    "\n",
    "# Crear una nueva columna 'Fecha' combinando las columnas 'ANIO', 'MES', 'ID_DIA', 'ID_HORA' y 'ID_MINUTO'\n",
    "df_atus['Fecha'] = pd.to_datetime(df_atus['ANIO'] + df_atus['MES'] + df_atus['ID_DIA'] + df_atus['ID_HORA'] + df_atus['ID_MINUTO'], format='%Y%m%d%H%M')\n",
    "\n",
    "# Imprimir el DataFrame con la nueva columna 'Fecha'\n",
    "print(df_atus)\n"
   ]
  },
  {
   "cell_type": "code",
   "execution_count": 4,
   "metadata": {},
   "outputs": [
    {
     "name": "stdout",
     "output_type": "stream",
     "text": [
      "           COBERTURA  ID_ENTIDAD  ID_MUNICIPIO  ANIO  MES  ID_HORA  ID_MINUTO  \\\n",
      "Municipal          1           1          2020     1    0        0          1   \n",
      "Municipal          1           1          2020     1    0        0          1   \n",
      "Municipal          1           1          2020     1    0       10          1   \n",
      "Municipal          1           1          2020     1    2        0          1   \n",
      "Municipal          1           1          2020     1    2       10          1   \n",
      "...              ...         ...           ...   ...  ...      ...        ...   \n",
      "392705     Municipal          32            56  2022   12        7         45   \n",
      "392706     Municipal          32            56  2022   12        8          0   \n",
      "392707     Municipal          32            56  2022   12       17         20   \n",
      "392708     Municipal          32            56  2022   12       14         45   \n",
      "392709     Municipal          32            56  2022   12       22         15   \n",
      "\n",
      "              ID_DIA                  DIASEMANA                      URBANA  \\\n",
      "Municipal  Miercoles  Accidente en intersección  Sin accidente en esta zona   \n",
      "Municipal  Miercoles  Accidente en intersección  Sin accidente en esta zona   \n",
      "Municipal  Miercoles  Accidente en intersección  Sin accidente en esta zona   \n",
      "Municipal  Miercoles  Accidente en intersección  Sin accidente en esta zona   \n",
      "Municipal  Miercoles  Accidente en intersección  Sin accidente en esta zona   \n",
      "...              ...                        ...                         ...   \n",
      "392705            30                    Viernes   Accidente en intersección   \n",
      "392706            30                    Viernes   Accidente en intersección   \n",
      "392707            30                    Viernes   Accidente en intersección   \n",
      "392708            31                     Sabado   Accidente en intersección   \n",
      "392709            31                     Sabado   Accidente en intersección   \n",
      "\n",
      "           ... PEATHERIDO CICLMUERTO  CICLHERIDO  OTROMUERTO  OTROHERIDO  \\\n",
      "Municipal  ...          0          0           0           0           0   \n",
      "Municipal  ...          0          0           0           0           0   \n",
      "Municipal  ...          0          0           0           0           0   \n",
      "Municipal  ...          0          0           0           0           0   \n",
      "Municipal  ...          0          0           0           0           0   \n",
      "...        ...        ...        ...         ...         ...         ...   \n",
      "392705     ...          0          0           0           0           0   \n",
      "392706     ...          0          0           0           0           0   \n",
      "392707     ...          0          0           0           0           0   \n",
      "392708     ...          0          0           0           0           0   \n",
      "392709     ...          0          0           0           0           0   \n",
      "\n",
      "           NEMUERTO    NEHERIDO             CLASACC             ESTATUS  Área  \n",
      "Municipal         0  Sólo daños  Cifras Definitivas                 NaN  None  \n",
      "Municipal         0  Sólo daños  Cifras Definitivas                 NaN  None  \n",
      "Municipal         0  Sólo daños  Cifras Definitivas                 NaN  None  \n",
      "Municipal         0  Sólo daños  Cifras Definitivas                 NaN  None  \n",
      "Municipal         0  Sólo daños  Cifras Definitivas                 NaN  None  \n",
      "...             ...         ...                 ...                 ...   ...  \n",
      "392705            0           0            No fatal  Cifras Definitivas  None  \n",
      "392706            0           0          Sólo daños  Cifras Definitivas  None  \n",
      "392707            0           0          Sólo daños  Cifras Definitivas  None  \n",
      "392708            0           0          Sólo daños  Cifras Definitivas  None  \n",
      "392709            0           0          Sólo daños  Cifras Definitivas  None  \n",
      "\n",
      "[1067071 rows x 46 columns]\n"
     ]
    }
   ],
   "source": [
    "# 3.  Agregue una columna para Área cuyos valores serán Urbana o Suburbana dependiendo del área donde ocurrió el accidente.\n",
    "\n",
    "df_atus['Área'] = df_atus.apply(lambda row: 'URBANA' if row['URBANA'] == 1 else 'SUBURBANA' if row['SUBURBANA'] == 1 else None, axis=1)\n",
    "\n",
    "# Imprimir el DataFrame con la nueva columna 'Área'\n",
    "print(df_atus)\n"
   ]
  },
  {
   "cell_type": "code",
   "execution_count": null,
   "metadata": {},
   "outputs": [],
   "source": [
    "# 4.  Agregue una columna Zona cuyos valores serán la zona donde ocurrió el accidente\n"
   ]
  },
  {
   "cell_type": "code",
   "execution_count": 18,
   "metadata": {},
   "outputs": [
    {
     "name": "stdout",
     "output_type": "stream",
     "text": [
      "           COBERTURA  ID_ENTIDAD  ID_MUNICIPIO  ANIO  MES  ID_HORA  ID_MINUTO  \\\n",
      "Municipal          1           1          2020     1    0        0          1   \n",
      "Municipal          1           1          2020     1    0        0          1   \n",
      "Municipal          1           1          2020     1    0       10          1   \n",
      "Municipal          1           1          2020     1    2        0          1   \n",
      "Municipal          1           1          2020     1    2       10          1   \n",
      "...              ...         ...           ...   ...  ...      ...        ...   \n",
      "392705     Municipal          32            56  2022   12        7         45   \n",
      "392706     Municipal          32            56  2022   12        8          0   \n",
      "392707     Municipal          32            56  2022   12       17         20   \n",
      "392708     Municipal          32            56  2022   12       14         45   \n",
      "392709     Municipal          32            56  2022   12       22         15   \n",
      "\n",
      "              ID_DIA                  DIASEMANA  \\\n",
      "Municipal  Miercoles  Accidente en intersección   \n",
      "Municipal  Miercoles  Accidente en intersección   \n",
      "Municipal  Miercoles  Accidente en intersección   \n",
      "Municipal  Miercoles  Accidente en intersección   \n",
      "Municipal  Miercoles  Accidente en intersección   \n",
      "...              ...                        ...   \n",
      "392705            30                    Viernes   \n",
      "392706            30                    Viernes   \n",
      "392707            30                    Viernes   \n",
      "392708            31                     Sabado   \n",
      "392709            31                     Sabado   \n",
      "\n",
      "                                  TIPACCID  ...  PEATHERIDO  CICLMUERTO  \\\n",
      "Municipal                                1  ...           0           0   \n",
      "Municipal                                1  ...           0           0   \n",
      "Municipal                                1  ...           0           0   \n",
      "Municipal                                2  ...           0           0   \n",
      "Municipal                                2  ...           0           0   \n",
      "...                                    ...  ...         ...         ...   \n",
      "392705            Colisión con objeto fijo  ...           0           0   \n",
      "392706     Colisión con vehículo automotor  ...           0           0   \n",
      "392707                           Volcadura  ...           0           0   \n",
      "392708     Colisión con vehículo automotor  ...           0           0   \n",
      "392709            Colisión con motocicleta  ...           0           0   \n",
      "\n",
      "           CICLHERIDO  OTROMUERTO  OTROHERIDO  NEMUERTO    NEHERIDO  \\\n",
      "Municipal           0           0           0         0  Sólo daños   \n",
      "Municipal           0           0           0         0  Sólo daños   \n",
      "Municipal           0           0           0         0  Sólo daños   \n",
      "Municipal           0           0           0         0  Sólo daños   \n",
      "Municipal           0           0           0         0  Sólo daños   \n",
      "...               ...         ...         ...       ...         ...   \n",
      "392705              0           0           0         0           0   \n",
      "392706              0           0           0         0           0   \n",
      "392707              0           0           0         0           0   \n",
      "392708              0           0           0         0           0   \n",
      "392709              0           0           0         0           0   \n",
      "\n",
      "                      CLASACC             ESTATUS  Área  \n",
      "Municipal  Cifras Definitivas                 NaN  None  \n",
      "Municipal  Cifras Definitivas                 NaN  None  \n",
      "Municipal  Cifras Definitivas                 NaN  None  \n",
      "Municipal  Cifras Definitivas                 NaN  None  \n",
      "Municipal  Cifras Definitivas                 NaN  None  \n",
      "...                       ...                 ...   ...  \n",
      "392705               No fatal  Cifras Definitivas  None  \n",
      "392706             Sólo daños  Cifras Definitivas  None  \n",
      "392707             Sólo daños  Cifras Definitivas  None  \n",
      "392708             Sólo daños  Cifras Definitivas  None  \n",
      "392709             Sólo daños  Cifras Definitivas  None  \n",
      "\n",
      "[1067071 rows x 44 columns]\n"
     ]
    }
   ],
   "source": [
    "# 5.  Elimine las columnas URBANA y SUBURBANA\n",
    "\n",
    "df_atus.drop(columns=['URBANA', 'SUBURBANA'], inplace=True)\n",
    "\n",
    "# Imprimir el DataFrame después de eliminar las columnas\n",
    "print(df_atus)\n",
    "\n"
   ]
  },
  {
   "cell_type": "code",
   "execution_count": null,
   "metadata": {},
   "outputs": [],
   "source": [
    "# 6.   Determine cual municipio de cada estado tuvo más meses sin accidentes\n"
   ]
  }
 ],
 "metadata": {
  "kernelspec": {
   "display_name": "Python 3",
   "language": "python",
   "name": "python3"
  },
  "language_info": {
   "codemirror_mode": {
    "name": "ipython",
    "version": 3
   },
   "file_extension": ".py",
   "mimetype": "text/x-python",
   "name": "python",
   "nbconvert_exporter": "python",
   "pygments_lexer": "ipython3",
   "version": "3.10.13"
  }
 },
 "nbformat": 4,
 "nbformat_minor": 2
}
